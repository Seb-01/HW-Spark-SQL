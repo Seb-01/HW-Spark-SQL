{
 "cells": [
  {
   "cell_type": "code",
   "execution_count": 1,
   "id": "4f7d81e0-2a92-4373-b3dd-747f13edabec",
   "metadata": {},
   "outputs": [],
   "source": [
    "import pyspark"
   ]
  },
  {
   "cell_type": "code",
   "execution_count": 2,
   "id": "058d753f-c5ff-467a-ad1e-745267e833f6",
   "metadata": {},
   "outputs": [
    {
     "data": {
      "text/plain": [
       "<module 'pyspark' from '/usr/local/spark/python/pyspark/__init__.py'>"
      ]
     },
     "execution_count": 2,
     "metadata": {},
     "output_type": "execute_result"
    }
   ],
   "source": [
    "pyspark"
   ]
  },
  {
   "cell_type": "code",
   "execution_count": 2,
   "id": "0f0139ed-ce0e-474f-8d51-29f27ff8d422",
   "metadata": {},
   "outputs": [],
   "source": [
    "from pyspark.sql import SparkSession"
   ]
  },
  {
   "cell_type": "code",
   "execution_count": 3,
   "id": "5f07926e-1f26-426e-83ad-80e347709306",
   "metadata": {},
   "outputs": [],
   "source": [
    "spark = (\n",
    "    SparkSession.builder.appName(\"ClusterTest\")\n",
    "    .getOrCreate()\n",
    ") "
   ]
  },
  {
   "cell_type": "code",
   "execution_count": 5,
   "id": "39c0ecd5-6df5-43c5-927d-ca2489b7487e",
   "metadata": {},
   "outputs": [
    {
     "data": {
      "text/html": [
       "\n",
       "            <div>\n",
       "                <p><b>SparkSession - in-memory</b></p>\n",
       "                \n",
       "        <div>\n",
       "            <p><b>SparkContext</b></p>\n",
       "\n",
       "            <p><a href=\"http://187b810f81e7:4040\">Spark UI</a></p>\n",
       "\n",
       "            <dl>\n",
       "              <dt>Version</dt>\n",
       "                <dd><code>v3.5.0</code></dd>\n",
       "              <dt>Master</dt>\n",
       "                <dd><code>local[*]</code></dd>\n",
       "              <dt>AppName</dt>\n",
       "                <dd><code>ClusterTest</code></dd>\n",
       "            </dl>\n",
       "        </div>\n",
       "        \n",
       "            </div>\n",
       "        "
      ],
      "text/plain": [
       "<pyspark.sql.session.SparkSession at 0x7fd71441f910>"
      ]
     },
     "execution_count": 5,
     "metadata": {},
     "output_type": "execute_result"
    }
   ],
   "source": [
    "spark"
   ]
  },
  {
   "cell_type": "markdown",
   "id": "622694a0-e223-432b-a598-5330f5d34ef8",
   "metadata": {},
   "source": [
    "Читаем файл в DataFrame"
   ]
  },
  {
   "cell_type": "code",
   "execution_count": 4,
   "id": "03b7855c-dd59-4144-8e64-e6b6776d31c7",
   "metadata": {},
   "outputs": [],
   "source": [
    "df = spark.read.text('/opt/bitnami/spark/input/covid-data.csv')"
   ]
  },
  {
   "cell_type": "code",
   "execution_count": 5,
   "id": "5bb38b54-837c-4399-9c75-2c03e7ffe015",
   "metadata": {},
   "outputs": [
    {
     "data": {
      "text/plain": [
       "[Row(value='iso_code,continent,location,date,total_cases,new_cases,new_cases_smoothed,total_deaths,new_deaths,new_deaths_smoothed,total_cases_per_million,new_cases_per_million,new_cases_smoothed_per_million,total_deaths_per_million,new_deaths_per_million,new_deaths_smoothed_per_million,reproduction_rate,icu_patients,icu_patients_per_million,hosp_patients,hosp_patients_per_million,weekly_icu_admissions,weekly_icu_admissions_per_million,weekly_hosp_admissions,weekly_hosp_admissions_per_million,new_tests,total_tests,total_tests_per_thousand,new_tests_per_thousand,new_tests_smoothed,new_tests_smoothed_per_thousand,positive_rate,tests_per_case,tests_units,total_vaccinations,people_vaccinated,people_fully_vaccinated,new_vaccinations,new_vaccinations_smoothed,total_vaccinations_per_hundred,people_vaccinated_per_hundred,people_fully_vaccinated_per_hundred,new_vaccinations_smoothed_per_million,stringency_index,population,population_density,median_age,aged_65_older,aged_70_older,gdp_per_capita,extreme_poverty,cardiovasc_death_rate,diabetes_prevalence,female_smokers,male_smokers,handwashing_facilities,hospital_beds_per_thousand,life_expectancy,human_development_index'),\n",
       " Row(value='AFG,Asia,Afghanistan,2020-02-24,1.0,1.0,,,,,0.026,0.026,,,,,,,,,,,,,,,,,,,,,,,,,,,,,,,,8.33,38928341.0,54.422,18.6,2.581,1.337,1803.987,,597.029,9.59,,,37.746,0.5,64.83,0.511'),\n",
       " Row(value='AFG,Asia,Afghanistan,2020-02-25,1.0,0.0,,,,,0.026,0.0,,,,,,,,,,,,,,,,,,,,,,,,,,,,,,,,8.33,38928341.0,54.422,18.6,2.581,1.337,1803.987,,597.029,9.59,,,37.746,0.5,64.83,0.511'),\n",
       " Row(value='AFG,Asia,Afghanistan,2020-02-26,1.0,0.0,,,,,0.026,0.0,,,,,,,,,,,,,,,,,,,,,,,,,,,,,,,,8.33,38928341.0,54.422,18.6,2.581,1.337,1803.987,,597.029,9.59,,,37.746,0.5,64.83,0.511'),\n",
       " Row(value='AFG,Asia,Afghanistan,2020-02-27,1.0,0.0,,,,,0.026,0.0,,,,,,,,,,,,,,,,,,,,,,,,,,,,,,,,8.33,38928341.0,54.422,18.6,2.581,1.337,1803.987,,597.029,9.59,,,37.746,0.5,64.83,0.511')]"
      ]
     },
     "execution_count": 5,
     "metadata": {},
     "output_type": "execute_result"
    }
   ],
   "source": [
    "df.take(5)"
   ]
  },
  {
   "cell_type": "code",
   "execution_count": 6,
   "id": "7f0794af-2abb-4109-b451-cd10c28bdc17",
   "metadata": {},
   "outputs": [],
   "source": [
    "covid_data_file_url = '/opt/bitnami/spark/input/covid-data.csv'"
   ]
  },
  {
   "cell_type": "code",
   "execution_count": 7,
   "id": "6f39a8c7-14cb-4259-9751-c9cf032c53b1",
   "metadata": {},
   "outputs": [],
   "source": [
    "df = spark.read.option('inferSchema', 'true').option('header', 'true').csv(covid_data_file_url)"
   ]
  },
  {
   "cell_type": "code",
   "execution_count": 12,
   "id": "ba111faf-b1ce-4982-82eb-ec66135b6394",
   "metadata": {
    "scrolled": true
   },
   "outputs": [
    {
     "data": {
      "text/plain": [
       "[Row(iso_code='AFG', continent='Asia', location='Afghanistan', date=datetime.date(2020, 2, 24), total_cases=1.0, new_cases=1.0, new_cases_smoothed=None, total_deaths=None, new_deaths=None, new_deaths_smoothed=None, total_cases_per_million=0.026, new_cases_per_million=0.026, new_cases_smoothed_per_million=None, total_deaths_per_million=None, new_deaths_per_million=None, new_deaths_smoothed_per_million=None, reproduction_rate=None, icu_patients=None, icu_patients_per_million=None, hosp_patients=None, hosp_patients_per_million=None, weekly_icu_admissions=None, weekly_icu_admissions_per_million=None, weekly_hosp_admissions=None, weekly_hosp_admissions_per_million=None, new_tests=None, total_tests=None, total_tests_per_thousand=None, new_tests_per_thousand=None, new_tests_smoothed=None, new_tests_smoothed_per_thousand=None, positive_rate=None, tests_per_case=None, tests_units=None, total_vaccinations=None, people_vaccinated=None, people_fully_vaccinated=None, new_vaccinations=None, new_vaccinations_smoothed=None, total_vaccinations_per_hundred=None, people_vaccinated_per_hundred=None, people_fully_vaccinated_per_hundred=None, new_vaccinations_smoothed_per_million=None, stringency_index=8.33, population=38928341.0, population_density=54.422, median_age=18.6, aged_65_older=2.581, aged_70_older=1.337, gdp_per_capita=1803.987, extreme_poverty=None, cardiovasc_death_rate=597.029, diabetes_prevalence=9.59, female_smokers=None, male_smokers=None, handwashing_facilities=37.746, hospital_beds_per_thousand=0.5, life_expectancy=64.83, human_development_index=0.511),\n",
       " Row(iso_code='AFG', continent='Asia', location='Afghanistan', date=datetime.date(2020, 2, 25), total_cases=1.0, new_cases=0.0, new_cases_smoothed=None, total_deaths=None, new_deaths=None, new_deaths_smoothed=None, total_cases_per_million=0.026, new_cases_per_million=0.0, new_cases_smoothed_per_million=None, total_deaths_per_million=None, new_deaths_per_million=None, new_deaths_smoothed_per_million=None, reproduction_rate=None, icu_patients=None, icu_patients_per_million=None, hosp_patients=None, hosp_patients_per_million=None, weekly_icu_admissions=None, weekly_icu_admissions_per_million=None, weekly_hosp_admissions=None, weekly_hosp_admissions_per_million=None, new_tests=None, total_tests=None, total_tests_per_thousand=None, new_tests_per_thousand=None, new_tests_smoothed=None, new_tests_smoothed_per_thousand=None, positive_rate=None, tests_per_case=None, tests_units=None, total_vaccinations=None, people_vaccinated=None, people_fully_vaccinated=None, new_vaccinations=None, new_vaccinations_smoothed=None, total_vaccinations_per_hundred=None, people_vaccinated_per_hundred=None, people_fully_vaccinated_per_hundred=None, new_vaccinations_smoothed_per_million=None, stringency_index=8.33, population=38928341.0, population_density=54.422, median_age=18.6, aged_65_older=2.581, aged_70_older=1.337, gdp_per_capita=1803.987, extreme_poverty=None, cardiovasc_death_rate=597.029, diabetes_prevalence=9.59, female_smokers=None, male_smokers=None, handwashing_facilities=37.746, hospital_beds_per_thousand=0.5, life_expectancy=64.83, human_development_index=0.511),\n",
       " Row(iso_code='AFG', continent='Asia', location='Afghanistan', date=datetime.date(2020, 2, 26), total_cases=1.0, new_cases=0.0, new_cases_smoothed=None, total_deaths=None, new_deaths=None, new_deaths_smoothed=None, total_cases_per_million=0.026, new_cases_per_million=0.0, new_cases_smoothed_per_million=None, total_deaths_per_million=None, new_deaths_per_million=None, new_deaths_smoothed_per_million=None, reproduction_rate=None, icu_patients=None, icu_patients_per_million=None, hosp_patients=None, hosp_patients_per_million=None, weekly_icu_admissions=None, weekly_icu_admissions_per_million=None, weekly_hosp_admissions=None, weekly_hosp_admissions_per_million=None, new_tests=None, total_tests=None, total_tests_per_thousand=None, new_tests_per_thousand=None, new_tests_smoothed=None, new_tests_smoothed_per_thousand=None, positive_rate=None, tests_per_case=None, tests_units=None, total_vaccinations=None, people_vaccinated=None, people_fully_vaccinated=None, new_vaccinations=None, new_vaccinations_smoothed=None, total_vaccinations_per_hundred=None, people_vaccinated_per_hundred=None, people_fully_vaccinated_per_hundred=None, new_vaccinations_smoothed_per_million=None, stringency_index=8.33, population=38928341.0, population_density=54.422, median_age=18.6, aged_65_older=2.581, aged_70_older=1.337, gdp_per_capita=1803.987, extreme_poverty=None, cardiovasc_death_rate=597.029, diabetes_prevalence=9.59, female_smokers=None, male_smokers=None, handwashing_facilities=37.746, hospital_beds_per_thousand=0.5, life_expectancy=64.83, human_development_index=0.511),\n",
       " Row(iso_code='AFG', continent='Asia', location='Afghanistan', date=datetime.date(2020, 2, 27), total_cases=1.0, new_cases=0.0, new_cases_smoothed=None, total_deaths=None, new_deaths=None, new_deaths_smoothed=None, total_cases_per_million=0.026, new_cases_per_million=0.0, new_cases_smoothed_per_million=None, total_deaths_per_million=None, new_deaths_per_million=None, new_deaths_smoothed_per_million=None, reproduction_rate=None, icu_patients=None, icu_patients_per_million=None, hosp_patients=None, hosp_patients_per_million=None, weekly_icu_admissions=None, weekly_icu_admissions_per_million=None, weekly_hosp_admissions=None, weekly_hosp_admissions_per_million=None, new_tests=None, total_tests=None, total_tests_per_thousand=None, new_tests_per_thousand=None, new_tests_smoothed=None, new_tests_smoothed_per_thousand=None, positive_rate=None, tests_per_case=None, tests_units=None, total_vaccinations=None, people_vaccinated=None, people_fully_vaccinated=None, new_vaccinations=None, new_vaccinations_smoothed=None, total_vaccinations_per_hundred=None, people_vaccinated_per_hundred=None, people_fully_vaccinated_per_hundred=None, new_vaccinations_smoothed_per_million=None, stringency_index=8.33, population=38928341.0, population_density=54.422, median_age=18.6, aged_65_older=2.581, aged_70_older=1.337, gdp_per_capita=1803.987, extreme_poverty=None, cardiovasc_death_rate=597.029, diabetes_prevalence=9.59, female_smokers=None, male_smokers=None, handwashing_facilities=37.746, hospital_beds_per_thousand=0.5, life_expectancy=64.83, human_development_index=0.511),\n",
       " Row(iso_code='AFG', continent='Asia', location='Afghanistan', date=datetime.date(2020, 2, 28), total_cases=1.0, new_cases=0.0, new_cases_smoothed=None, total_deaths=None, new_deaths=None, new_deaths_smoothed=None, total_cases_per_million=0.026, new_cases_per_million=0.0, new_cases_smoothed_per_million=None, total_deaths_per_million=None, new_deaths_per_million=None, new_deaths_smoothed_per_million=None, reproduction_rate=None, icu_patients=None, icu_patients_per_million=None, hosp_patients=None, hosp_patients_per_million=None, weekly_icu_admissions=None, weekly_icu_admissions_per_million=None, weekly_hosp_admissions=None, weekly_hosp_admissions_per_million=None, new_tests=None, total_tests=None, total_tests_per_thousand=None, new_tests_per_thousand=None, new_tests_smoothed=None, new_tests_smoothed_per_thousand=None, positive_rate=None, tests_per_case=None, tests_units=None, total_vaccinations=None, people_vaccinated=None, people_fully_vaccinated=None, new_vaccinations=None, new_vaccinations_smoothed=None, total_vaccinations_per_hundred=None, people_vaccinated_per_hundred=None, people_fully_vaccinated_per_hundred=None, new_vaccinations_smoothed_per_million=None, stringency_index=8.33, population=38928341.0, population_density=54.422, median_age=18.6, aged_65_older=2.581, aged_70_older=1.337, gdp_per_capita=1803.987, extreme_poverty=None, cardiovasc_death_rate=597.029, diabetes_prevalence=9.59, female_smokers=None, male_smokers=None, handwashing_facilities=37.746, hospital_beds_per_thousand=0.5, life_expectancy=64.83, human_development_index=0.511)]"
      ]
     },
     "execution_count": 12,
     "metadata": {},
     "output_type": "execute_result"
    }
   ],
   "source": [
    "df.take(5)"
   ]
  },
  {
   "cell_type": "code",
   "execution_count": 15,
   "id": "3462112b-fdc3-42a6-b45d-7115289dd71d",
   "metadata": {},
   "outputs": [
    {
     "data": {
      "text/plain": [
       "StructType([StructField('iso_code', StringType(), True), StructField('continent', StringType(), True), StructField('location', StringType(), True), StructField('date', DateType(), True), StructField('total_cases', DoubleType(), True), StructField('new_cases', DoubleType(), True), StructField('new_cases_smoothed', DoubleType(), True), StructField('total_deaths', DoubleType(), True), StructField('new_deaths', DoubleType(), True), StructField('new_deaths_smoothed', DoubleType(), True), StructField('total_cases_per_million', DoubleType(), True), StructField('new_cases_per_million', DoubleType(), True), StructField('new_cases_smoothed_per_million', DoubleType(), True), StructField('total_deaths_per_million', DoubleType(), True), StructField('new_deaths_per_million', DoubleType(), True), StructField('new_deaths_smoothed_per_million', DoubleType(), True), StructField('reproduction_rate', DoubleType(), True), StructField('icu_patients', DoubleType(), True), StructField('icu_patients_per_million', DoubleType(), True), StructField('hosp_patients', DoubleType(), True), StructField('hosp_patients_per_million', DoubleType(), True), StructField('weekly_icu_admissions', DoubleType(), True), StructField('weekly_icu_admissions_per_million', DoubleType(), True), StructField('weekly_hosp_admissions', DoubleType(), True), StructField('weekly_hosp_admissions_per_million', DoubleType(), True), StructField('new_tests', DoubleType(), True), StructField('total_tests', DoubleType(), True), StructField('total_tests_per_thousand', DoubleType(), True), StructField('new_tests_per_thousand', DoubleType(), True), StructField('new_tests_smoothed', DoubleType(), True), StructField('new_tests_smoothed_per_thousand', DoubleType(), True), StructField('positive_rate', DoubleType(), True), StructField('tests_per_case', DoubleType(), True), StructField('tests_units', StringType(), True), StructField('total_vaccinations', DoubleType(), True), StructField('people_vaccinated', DoubleType(), True), StructField('people_fully_vaccinated', DoubleType(), True), StructField('new_vaccinations', DoubleType(), True), StructField('new_vaccinations_smoothed', DoubleType(), True), StructField('total_vaccinations_per_hundred', DoubleType(), True), StructField('people_vaccinated_per_hundred', DoubleType(), True), StructField('people_fully_vaccinated_per_hundred', DoubleType(), True), StructField('new_vaccinations_smoothed_per_million', DoubleType(), True), StructField('stringency_index', DoubleType(), True), StructField('population', DoubleType(), True), StructField('population_density', DoubleType(), True), StructField('median_age', DoubleType(), True), StructField('aged_65_older', DoubleType(), True), StructField('aged_70_older', DoubleType(), True), StructField('gdp_per_capita', DoubleType(), True), StructField('extreme_poverty', DoubleType(), True), StructField('cardiovasc_death_rate', DoubleType(), True), StructField('diabetes_prevalence', DoubleType(), True), StructField('female_smokers', DoubleType(), True), StructField('male_smokers', DoubleType(), True), StructField('handwashing_facilities', DoubleType(), True), StructField('hospital_beds_per_thousand', DoubleType(), True), StructField('life_expectancy', DoubleType(), True), StructField('human_development_index', DoubleType(), True)])"
      ]
     },
     "execution_count": 15,
     "metadata": {},
     "output_type": "execute_result"
    }
   ],
   "source": [
    "df.schema"
   ]
  },
  {
   "cell_type": "markdown",
   "id": "b010f7e8-8f99-4b94-9bb2-e5921800741b",
   "metadata": {},
   "source": [
    "1.\tВыберите 15 стран с наибольшим процентом переболевших на 31 марта (в выходящем датасете необходимы колонки: iso_code, страна, процент переболевших)"
   ]
  },
  {
   "cell_type": "code",
   "execution_count": 8,
   "id": "d948a550-c9f0-4cc4-97b2-998304c49112",
   "metadata": {},
   "outputs": [],
   "source": [
    "from pyspark.sql import functions as F"
   ]
  },
  {
   "cell_type": "code",
   "execution_count": 9,
   "id": "f403a392-3d3e-4a05-a27a-b35b7f1a91e3",
   "metadata": {},
   "outputs": [],
   "source": [
    "specific_date = '2020-03-31'"
   ]
  },
  {
   "cell_type": "code",
   "execution_count": 55,
   "id": "512929a0-16fb-479d-b034-51cc5e606b7c",
   "metadata": {},
   "outputs": [],
   "source": [
    "#result1=df.select('iso_code', 'location','population', 'total_cases', 'date', (F.col('total_cases') / F.col('population') * 100).alias(\"result\")).filter(df.date == specific_date)"
   ]
  },
  {
   "cell_type": "code",
   "execution_count": 10,
   "id": "17744b11-9ad5-43bf-91b0-59b371be0acb",
   "metadata": {},
   "outputs": [],
   "source": [
    "result1=df.select('iso_code', 'location',(F.col('total_cases') / F.col('population') * 100).alias(\"result\")).filter(df.date == specific_date)"
   ]
  },
  {
   "cell_type": "code",
   "execution_count": 11,
   "id": "f80e4668-4a93-4ebc-aa71-c61b04bd18d5",
   "metadata": {},
   "outputs": [
    {
     "name": "stdout",
     "output_type": "stream",
     "text": [
      "+--------+-------------------+--------------------+\n",
      "|iso_code|           location|              result|\n",
      "+--------+-------------------+--------------------+\n",
      "|     AFG|        Afghanistan|4.495439453738858...|\n",
      "|OWID_AFR|             Africa|4.312254316890867E-4|\n",
      "|     ALB|            Albania|0.008443950239766488|\n",
      "|     DZA|            Algeria|0.001632800387438903|\n",
      "|     AND|            Andorra|  0.4866368989840161|\n",
      "|     AGO|             Angola|2.129843278829224E-5|\n",
      "|     ATG|Antigua and Barbuda|0.007148108814639327|\n",
      "|     ARG|          Argentina|0.002332076291110...|\n",
      "|     ARM|            Armenia|0.017953357716602874|\n",
      "|OWID_ASI|               Asia|0.003858596708058779|\n",
      "|     AUS|          Australia|0.017878514805618112|\n",
      "|     AUT|            Austria| 0.11303073370047965|\n",
      "|     AZE|         Azerbaijan| 0.00293909514334253|\n",
      "|     BHS|            Bahamas|0.003560094393359...|\n",
      "|     BHR|            Bahrain| 0.03332191259550665|\n",
      "|     BGD|         Bangladesh|3.096738786130494E-5|\n",
      "|     BRB|           Barbados| 0.01183139565231008|\n",
      "|     BLR|            Belarus|0.001608581188002...|\n",
      "|     BEL|            Belgium| 0.11022798339479065|\n",
      "|     BLZ|             Belize| 7.54487313295827E-4|\n",
      "+--------+-------------------+--------------------+\n",
      "only showing top 20 rows\n",
      "\n"
     ]
    }
   ],
   "source": [
    "result1.show()"
   ]
  },
  {
   "cell_type": "code",
   "execution_count": 12,
   "id": "76424478-afb4-4382-8be7-591294b7286a",
   "metadata": {},
   "outputs": [
    {
     "name": "stdout",
     "output_type": "stream",
     "text": [
      "+--------+--------------+-------------------+\n",
      "|iso_code|      location|             result|\n",
      "+--------+--------------+-------------------+\n",
      "|     VAT|       Vatican| 0.7416563658838072|\n",
      "|     SMR|    San Marino| 0.6953857033413873|\n",
      "|     AND|       Andorra| 0.4866368989840161|\n",
      "|     LUX|    Luxembourg| 0.3479366621084514|\n",
      "|     ISL|       Iceland| 0.3326007326007326|\n",
      "|     ESP|         Spain|0.20516189755388237|\n",
      "|     CHE|   Switzerland|0.19186288753587968|\n",
      "|     LIE| Liechtenstein|0.17830453365498072|\n",
      "|     ITA|         Italy| 0.1749732078891164|\n",
      "|     MCO|        Monaco|0.13250433187238814|\n",
      "|     AUT|       Austria|0.11303073370047965|\n",
      "|     BEL|       Belgium|0.11022798339479065|\n",
      "|OWID_EUN|European Union|0.08938996679530879|\n",
      "|     DEU|       Germany|0.08570615766540952|\n",
      "|     NOR|        Norway|0.08560768916052816|\n",
      "+--------+--------------+-------------------+\n",
      "only showing top 15 rows\n",
      "\n"
     ]
    }
   ],
   "source": [
    "# итоговый результат по задаче 1:\n",
    "result1.sort(F.col('result').desc()).show(15)"
   ]
  },
  {
   "cell_type": "markdown",
   "id": "796f6aff-526b-453d-9b31-c18c73cafad1",
   "metadata": {},
   "source": [
    "2.\tTop 10 стран с максимальным зафиксированным кол-вом новых случаев за последнюю неделю марта 2021 в отсортированном порядке по убыванию\r\n",
    "(в выходящем датасете необходимы колонки: число, страна, кол-во новых случаев)\r\n"
   ]
  },
  {
   "cell_type": "code",
   "execution_count": 25,
   "id": "89376ec1-3ff0-43f3-bdbf-6230c70e6b1d",
   "metadata": {},
   "outputs": [
    {
     "name": "stdout",
     "output_type": "stream",
     "text": [
      "+--------------+----------+--------------+\n",
      "|      location|      date|max(new_cases)|\n",
      "+--------------+----------+--------------+\n",
      "|        Europe|2021-03-31|      255985.0|\n",
      "|European Union|2021-03-31|      216452.0|\n",
      "|        Europe|2021-03-30|      204845.0|\n",
      "|          Asia|2021-03-31|      183350.0|\n",
      "|European Union|2021-03-30|      162338.0|\n",
      "|          Asia|2021-03-30|      161222.0|\n",
      "|          Asia|2021-03-29|      152824.0|\n",
      "| South America|2021-03-31|      145976.0|\n",
      "|        Europe|2021-03-29|      139257.0|\n",
      "| South America|2021-03-30|      117245.0|\n",
      "+--------------+----------+--------------+\n",
      "\n"
     ]
    }
   ],
   "source": [
    "#result2=df.select('iso_code', 'location', 'date', 'new_cases').where((F.col(\"date\") >= '2021-03-29') & (F.col(\"date\") <= '2021-03-31')).show()\n",
    "#result2=df.select('iso_code', 'location', 'date', 'new_cases').where((F.col(\"date\") >= '2021-03-29') & (F.col(\"date\") <= '2021-03-31')).groupby('location').max('new_cases').show()\n",
    "#result2=df.select('iso_code', 'location', 'date', 'new_cases').where((F.col(\"date\") >= '2021-03-29') & (F.col(\"date\") <= '2021-03-31')).groupby('location').max('new_cases').sort((F.col('max(new_cases)')).desc()).limit(10).show()\n",
    "result2=df.select('iso_code', 'location', 'date', 'new_cases').where((F.col(\"date\") >= '2021-03-29') & (F.col(\"date\") <= '2021-03-31') & (F.col(\"location\") != 'World')).groupby('location', 'date').max('new_cases').sort((F.col('max(new_cases)')).desc()).limit(10).show()"
   ]
  },
  {
   "cell_type": "markdown",
   "id": "94a92a3b-525d-4a47-b53f-2bdf46330404",
   "metadata": {},
   "source": [
    "3.\tПосчитайте изменение случаев относительно предыдущего дня в России за последнюю неделю марта 2021. (например: в россии вчера было 9150 , сегодня 8763, итог: -387) (в выходящем датасете необходимы колонки: число, кол-во новых случаев вчера, кол-во новых случаев сегодня, дельта)"
   ]
  },
  {
   "cell_type": "code",
   "execution_count": 43,
   "id": "d1756f29-5c82-48f2-a162-a71fa0767de2",
   "metadata": {},
   "outputs": [],
   "source": [
    "#result3=df.select('iso_code', 'location', 'date', 'new_cases').where((F.col(\"date\") >= '2021-03-29') & (F.col(\"date\") <= '2021-03-31') & (F.col('location').startswith(\"Rus\"))).show()\n",
    "result3=df.select('date', 'new_cases').where((F.col(\"date\") >= '2021-03-29') & (F.col(\"date\") <= '2021-03-31') & (F.col('location').startswith(\"Rus\")))"
   ]
  },
  {
   "cell_type": "markdown",
   "id": "9dda6537-ce82-4f71-98bf-29bfbaf4c82e",
   "metadata": {},
   "source": [
    "Оконная спецификация - Window.orderBy(\"date\") определяет, что данные должны быть упорядочены по дате\n",
    "Функция lag() - получает значение из предыдущей строки (сдвиг на 1)\n",
    "Вычисление изменения - разница между текущим и предыдущим значением"
   ]
  },
  {
   "cell_type": "code",
   "execution_count": 28,
   "id": "1b372645-36c2-43c3-babc-4c8186e0beea",
   "metadata": {},
   "outputs": [],
   "source": [
    "# Определяем оконную спецификацию - сортировка по дате\n",
    "from pyspark.sql.window import Window\n",
    "windowSpec = Window.orderBy(\"date\")"
   ]
  },
  {
   "cell_type": "code",
   "execution_count": 29,
   "id": "7afb3d28-19d3-450b-825c-d5f16ddd549d",
   "metadata": {},
   "outputs": [],
   "source": [
    "from pyspark.sql.functions import lag, col\n"
   ]
  },
  {
   "cell_type": "code",
   "execution_count": 44,
   "id": "ffdcdd69-06b5-4170-9b90-befd45472337",
   "metadata": {},
   "outputs": [
    {
     "name": "stdout",
     "output_type": "stream",
     "text": [
      "+----------+---------+\n",
      "|      date|new_cases|\n",
      "+----------+---------+\n",
      "|2021-03-29|   8589.0|\n",
      "|2021-03-30|   8162.0|\n",
      "|2021-03-31|   8156.0|\n",
      "+----------+---------+\n",
      "\n"
     ]
    }
   ],
   "source": [
    "result3.show()"
   ]
  },
  {
   "cell_type": "code",
   "execution_count": 45,
   "id": "79914ae8-2047-4eeb-89aa-d927a3a77e2b",
   "metadata": {},
   "outputs": [],
   "source": [
    "# Добавляем столбец с количеством за предыдущий день\n",
    "result_with_lag = result3.withColumn(\"prev_day\", lag(\"new_cases\", 1).over(windowSpec))"
   ]
  },
  {
   "cell_type": "code",
   "execution_count": 46,
   "id": "2e06f15e-8e8e-4134-931d-befbce884a55",
   "metadata": {},
   "outputs": [
    {
     "name": "stdout",
     "output_type": "stream",
     "text": [
      "+----------+---------+--------+\n",
      "|      date|new_cases|prev_day|\n",
      "+----------+---------+--------+\n",
      "|2021-03-29|   8589.0|    NULL|\n",
      "|2021-03-30|   8162.0|  8589.0|\n",
      "|2021-03-31|   8156.0|  8162.0|\n",
      "+----------+---------+--------+\n",
      "\n"
     ]
    }
   ],
   "source": [
    "result_with_lag.show()"
   ]
  },
  {
   "cell_type": "code",
   "execution_count": 47,
   "id": "c1eb9d7e-ddfa-4d4e-8875-a73aa9bb120d",
   "metadata": {},
   "outputs": [],
   "source": [
    "# Вычисляем изменение количества относительно предыдущего дня\n",
    "result_with_change = result_with_lag.withColumn(\"delta\", col(\"new_cases\") - col(\"prev_day\"))"
   ]
  },
  {
   "cell_type": "code",
   "execution_count": 48,
   "id": "1146775e-9900-4421-b7f7-9e8e3df5ce9e",
   "metadata": {},
   "outputs": [
    {
     "name": "stdout",
     "output_type": "stream",
     "text": [
      "+----------+---------+--------+------+\n",
      "|      date|new_cases|prev_day| delta|\n",
      "+----------+---------+--------+------+\n",
      "|2021-03-29|   8589.0|    NULL|  NULL|\n",
      "|2021-03-30|   8162.0|  8589.0|-427.0|\n",
      "|2021-03-31|   8156.0|  8162.0|  -6.0|\n",
      "+----------+---------+--------+------+\n",
      "\n"
     ]
    }
   ],
   "source": [
    "result_with_change.show()"
   ]
  },
  {
   "cell_type": "code",
   "execution_count": null,
   "id": "64286cd9-9d45-49e2-b044-e6a3b8c2dcc2",
   "metadata": {},
   "outputs": [],
   "source": []
  }
 ],
 "metadata": {
  "kernelspec": {
   "display_name": "Python 3 (ipykernel)",
   "language": "python",
   "name": "python3"
  },
  "language_info": {
   "codemirror_mode": {
    "name": "ipython",
    "version": 3
   },
   "file_extension": ".py",
   "mimetype": "text/x-python",
   "name": "python",
   "nbconvert_exporter": "python",
   "pygments_lexer": "ipython3",
   "version": "3.11.6"
  }
 },
 "nbformat": 4,
 "nbformat_minor": 5
}
